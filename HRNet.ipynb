{
  "nbformat": 4,
  "nbformat_minor": 0,
  "metadata": {
    "colab": {
      "provenance": [],
      "collapsed_sections": [
        "vemCFHWI-sLa",
        "xAxXPcvg-0Y0"
      ]
    },
    "kernelspec": {
      "name": "python3",
      "display_name": "Python 3"
    },
    "language_info": {
      "name": "python"
    }
  },
  "cells": [
    {
      "cell_type": "markdown",
      "source": [
        "# HRNet_Classification"
      ],
      "metadata": {
        "id": "vemCFHWI-sLa"
      }
    },
    {
      "cell_type": "code",
      "source": [
        "import os\n",
        "os.environ[\"TF_CPP_MIN_LOG_LEVEL\"] = \"3\"\n",
        "\n",
        "import tensorflow as tf\n",
        "import keras\n",
        "# import keras.backend as K\n",
        "from keras.layers import Conv2D, BatchNormalization, Activation, Dense, Input, Add, GlobalAveragePooling2D\n",
        "from keras.models import Model\n",
        "from HRNet import HRNet, Strided_Conv_Block\n",
        "\n",
        "\n",
        "print(tf.__version__)       # 2.11.0\n",
        "print(keras.__version__)    # 2.11.0\n",
        "\n",
        "\n",
        "def HRNet_Classification(input_shape, n_classes, n_filters):\n",
        "\n",
        "  inputs = Input(input_shape)\n",
        "\n",
        "  stage1, stage2, stage3, stage4 = HRNet(inputs, n_filters=n_filters)\n",
        "\n",
        "  stage1 = Conv2D(filters=4*n_filters, kernel_size=1, strides=1, padding='same', use_bias=False)(stage1)\n",
        "  stage1 = BatchNormalization()(stage1)\n",
        "  stage1 = Activation('relu')(stage1)\n",
        "\n",
        "  stage2 = Conv2D(filters=8*n_filters, kernel_size=1, strides=1, padding='same', use_bias=False)(stage2)\n",
        "  stage2 = BatchNormalization()(stage2)\n",
        "  stage2 = Activation('relu')(stage2)\n",
        "\n",
        "  stage3 = Conv2D(filters=16*n_filters, kernel_size=1, strides=1, padding='same', use_bias=False)(stage3)\n",
        "  stage3 = BatchNormalization()(stage3)\n",
        "  stage3 = Activation('relu')(stage3)\n",
        "\n",
        "  stage4 = Conv2D(filters=32*n_filters, kernel_size=1, strides=1, padding='same', use_bias=False)(stage4)\n",
        "  stage4 = BatchNormalization()(stage4)\n",
        "  stage4 = Activation('relu')(stage4)\n",
        "\n",
        "  y1 = Strided_Conv_Block(stage1, 8*n_filters, n_stride=2)\n",
        "  y = Add()([stage2, y1])\n",
        "\n",
        "  y2 = Strided_Conv_Block(y1, 16*n_filters, n_stride=2)\n",
        "  y = Add()([stage3, y2])\n",
        "\n",
        "  y3 = Strided_Conv_Block(y2, 32*n_filters, n_stride=2)\n",
        "  y = Add()([stage4, y3])\n",
        "\n",
        "  y = Conv2D(filters=64*n_filters, kernel_size=1, strides=1, padding='same', use_bias=False)(y)\n",
        "  y = BatchNormalization()(y)\n",
        "  y = Activation('relu')(y)\n",
        "\n",
        "  y = Conv2D(filters=64*n_filters, kernel_size=1, strides=1, padding='same', use_bias=False)(y)\n",
        "  y = BatchNormalization()(y)\n",
        "  y = Activation('relu')(y)\n",
        "\n",
        "  y = GlobalAveragePooling2D()(y)\n",
        "  y = Dense(n_classes, use_bias=False)(y)\n",
        "\n",
        "  if n_classes == 1:\n",
        "    y = Activation('sigmoid')(y)\n",
        "  else:\n",
        "    y = Activation('softmax')(y)\n",
        "  # print(y.shape)\n",
        "\n",
        "  model = Model(inputs=inputs, outputs=y)\n",
        "\n",
        "  return model\n",
        "\n",
        "def main():\n",
        "\n",
        "  model = HRNet_Classification(input_shape=(224,224,3), n_classes=4, n_filters=16)\n",
        "  # model.summary()  \n",
        "  model.save('sdaads.h5')\n",
        "\n",
        "if __name__== '__main__':\n",
        "\n",
        "  main()"
      ],
      "metadata": {
        "colab": {
          "base_uri": "https://localhost:8080/"
        },
        "id": "tFe5PelezYTC",
        "outputId": "0da41376-bd3e-4ee3-cc94-3e5905b4e507"
      },
      "execution_count": 6,
      "outputs": [
        {
          "output_type": "stream",
          "name": "stdout",
          "text": [
            "2.11.0\n",
            "2.11.0\n",
            "(None, 224, 224, 16) (None, 112, 112, 32) (None, 56, 56, 64) (None, 28, 28, 128)\n"
          ]
        },
        {
          "output_type": "stream",
          "name": "stderr",
          "text": [
            "WARNING:tensorflow:Compiled the loaded model, but the compiled metrics have yet to be built. `model.compile_metrics` will be empty until you train or evaluate the model.\n"
          ]
        }
      ]
    },
    {
      "cell_type": "code",
      "source": [],
      "metadata": {
        "id": "G5LpzwYa5VEJ"
      },
      "execution_count": null,
      "outputs": []
    },
    {
      "cell_type": "markdown",
      "source": [
        "# HRNet_Segmentation"
      ],
      "metadata": {
        "id": "xAxXPcvg-0Y0"
      }
    },
    {
      "cell_type": "code",
      "source": [
        "import os\n",
        "os.environ[\"TF_CPP_MIN_LOG_LEVEL\"] = \"3\"\n",
        "\n",
        "import tensorflow as tf\n",
        "import keras\n",
        "# import keras.backend as K\n",
        "from keras.layers import Conv2D, BatchNormalization, Activation, Input, UpSampling2D, Concatenate\n",
        "from keras.models import Model\n",
        "from HRNet import HRNet, Strided_Conv_Block\n",
        "\n",
        "\n",
        "print(tf.__version__)       # 2.11.0\n",
        "print(keras.__version__)    # 2.11.0\n",
        "\n",
        "\n",
        "def HRNet_Segmentation(input_shape, n_classes, n_filters):\n",
        "\n",
        "  inputs = Input(input_shape)\n",
        "\n",
        "  stage1, stage2, stage3, stage4 = HRNet(inputs, n_filters=n_filters)\n",
        "\n",
        "  stage2 = UpSampling2D(size=2, interpolation='bilinear')(stage2)\n",
        "  stage3 = UpSampling2D(size=4, interpolation='bilinear')(stage3)\n",
        "  stage4 = UpSampling2D(size=8, interpolation='bilinear')(stage4)\n",
        "  \n",
        "  y = Concatenate()([stage1, stage2, stage3, stage4])\n",
        "\n",
        "  y = Conv2D(filters=2*n_filters, kernel_size=1, strides=1, padding='same', use_bias=False)(y)\n",
        "  y = BatchNormalization()(y)\n",
        "  y = Activation('relu')(y)\n",
        "\n",
        "  y = Conv2D(filters=n_classes, kernel_size=1, strides=1, padding='same', use_bias=False)(y)\n",
        "\n",
        "  if n_classes == 1:\n",
        "    y = Activation('sigmoid')(y)\n",
        "  else:\n",
        "    y = Activation('softmax')(y)\n",
        "  # print(y.shape)\n",
        "\n",
        "  model = Model(inputs=inputs, outputs=y)\n",
        "\n",
        "  return model\n",
        "\n",
        "def main():\n",
        "\n",
        "  model = HRNet_Segmentation(input_shape=(512,512,3), n_classes=10, n_filters=16)\n",
        "  # model.summary()  \n",
        "  model.save('sdaads.h5')\n",
        "\n",
        "if __name__== '__main__':\n",
        "\n",
        "  main()"
      ],
      "metadata": {
        "id": "SgjGVdYF6EI_",
        "colab": {
          "base_uri": "https://localhost:8080/"
        },
        "outputId": "b8865183-1997-4448-b134-6fb41755b750"
      },
      "execution_count": 15,
      "outputs": [
        {
          "output_type": "stream",
          "name": "stdout",
          "text": [
            "2.11.0\n",
            "2.11.0\n"
          ]
        },
        {
          "output_type": "stream",
          "name": "stderr",
          "text": [
            "WARNING:tensorflow:Compiled the loaded model, but the compiled metrics have yet to be built. `model.compile_metrics` will be empty until you train or evaluate the model.\n"
          ]
        },
        {
          "output_type": "stream",
          "name": "stdout",
          "text": [
            "(None, 512, 512, 16) (None, 256, 256, 32) (None, 128, 128, 64) (None, 64, 64, 128)\n"
          ]
        }
      ]
    },
    {
      "cell_type": "code",
      "source": [],
      "metadata": {
        "id": "aJAteJ0m6FFJ"
      },
      "execution_count": null,
      "outputs": []
    }
  ]
}